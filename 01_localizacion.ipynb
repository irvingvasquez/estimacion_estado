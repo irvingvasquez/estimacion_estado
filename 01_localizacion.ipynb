{
 "cells": [
  {
   "cell_type": "markdown",
   "metadata": {},
   "source": [
    "# Ejemplo numérico de Localización\n",
    "\n",
    "Programa que estima la posición de un robot en un mundo de cinco estados."
   ]
  },
  {
   "cell_type": "code",
   "execution_count": null,
   "metadata": {},
   "outputs": [],
   "source": [
    "#!/usr/bin/env python\n",
    "import numpy as np\n",
    "import matplotlib.mlab as mlab\n",
    "import matplotlib.pyplot as plt"
   ]
  },
  {
   "cell_type": "code",
   "execution_count": null,
   "metadata": {},
   "outputs": [],
   "source": [
    "def imprimirBelief(p):\n",
    "    width = 1/1.5\n",
    "    N = len(p)\n",
    "    indices = range(N)\n",
    "    plt.bar(indices, p, width, color=\"blue\")\n",
    "    plt.xlabel('Mundo (X)')\n",
    "    plt.ylabel('Probabilidad p(x_i)')\n",
    "    plt.show()"
   ]
  },
  {
   "cell_type": "markdown",
   "metadata": {},
   "source": [
    "### Creencia (belief)\n",
    "\n",
    "Primero vamos a definir el mundo y estableceremos la creencia (belief) de nuestro estado en el mundo. Como no sabemos en que parte nos encontramos entonces tenemos un estado de maxima incertidumbre.\n",
    "\n",
    "$\n",
    "p(x_i) = 1/n\n",
    "$"
   ]
  },
  {
   "cell_type": "code",
   "execution_count": null,
   "metadata": {},
   "outputs": [],
   "source": [
    "mundo = [\"cerrado\", \"abierto\", \"abierto\", \"cerrado\", \"cerrado\"]\n",
    "\n",
    "maxima_incertidumbre = [0.2, 0.2, 0.2, 0.2, 0.2]\n",
    "p = maxima_incertidumbre\n",
    "\n",
    "# Grafiquemos la distribución de la creencia   \n",
    "print(p)\n",
    "imprimirBelief(p)"
   ]
  },
  {
   "cell_type": "markdown",
   "metadata": {},
   "source": [
    "### Percepción (measurement)\n",
    "\n",
    "Actualizaremos la probabilidad dada una percepción del robot"
   ]
  },
  {
   "cell_type": "code",
   "execution_count": null,
   "metadata": {},
   "outputs": [],
   "source": [
    "p_sensor_acierta = 0.6\n",
    "p_sensor_falla = 0.4"
   ]
  },
  {
   "cell_type": "code",
   "execution_count": null,
   "metadata": {},
   "outputs": [],
   "source": [
    "#Estima la creencia de estar en un estado dada una lectura\n",
    "def sensar(p, z):\n",
    "\tq = []\n",
    "\tfor i in range(len(p)):\n",
    "\t\tif mundo[i]==z:\n",
    "\t\t\tq.append(p_sensor_acierta * p[i])\n",
    "\t\telse:\n",
    "\t\t\tq.append(p_sensor_falla * p[i])\n",
    "\ts = sum(q)\n",
    "\tfor i in range(len(q)):\n",
    "\t\tq[i] = q[i]/s\n",
    "\treturn q\n"
   ]
  },
  {
   "cell_type": "code",
   "execution_count": null,
   "metadata": {},
   "outputs": [],
   "source": [
    "p_next = sensar(p, \"abierto\")\n",
    "\n",
    "print(p_next)\n",
    "imprimirBelief(p_next)"
   ]
  },
  {
   "cell_type": "markdown",
   "metadata": {},
   "source": [
    "### Movimiento exacto\n",
    "\n",
    "Como se vería afectada la creencia si el robot se moviera exactamente una celda a la derecha? Intuitivamente se \"recorrerian las creencias\""
   ]
  },
  {
   "cell_type": "code",
   "execution_count": null,
   "metadata": {},
   "outputs": [],
   "source": [
    "def shiftR(l, m):\n",
    "    return l[-m:] + l[:-m]\n",
    "\n",
    "p_tm1 = shiftR(p_next, 1) \n",
    "print(p_tm1)\n",
    "imprimirBelief(p_tm1)"
   ]
  },
  {
   "cell_type": "markdown",
   "metadata": {},
   "source": [
    "### Movimiento inexacto\n",
    "\n"
   ]
  },
  {
   "cell_type": "code",
   "execution_count": null,
   "metadata": {},
   "outputs": [],
   "source": [
    "p_no_llega = 0.1\n",
    "p_se_pasa = 0.1\n",
    "p_exacto = 0.8"
   ]
  },
  {
   "cell_type": "code",
   "execution_count": null,
   "metadata": {},
   "outputs": [],
   "source": [
    "#Estima la creencia de estar en un estado dado un movimiento (control)\n",
    "def mover(p, u):\n",
    "\tq = []\n",
    "\tn = len(p)\n",
    "\tfor i in range(len(p)):\n",
    "\t\t# no llega\n",
    "\t\ts1 = p[(i-(u-1))%n] * p_no_llega\n",
    "\t\ts2 = p[(i-u)%n] * p_exacto\n",
    "\t\ts3 = p[(i-(u+1))%n] * p_se_pasa\n",
    "\t\tq.append(s1+s2+s3)\n",
    "\treturn q"
   ]
  },
  {
   "cell_type": "code",
   "execution_count": null,
   "metadata": {},
   "outputs": [],
   "source": [
    "# primero probemos con un estado conocido \n",
    "p_conocido = [0, 1, 0, 0, 0]\n",
    "\n",
    "p_tm1 = mover(p_conocido, 1)\n",
    "\n",
    "print(p_tm1)"
   ]
  },
  {
   "cell_type": "markdown",
   "metadata": {},
   "source": [
    "### Ciclo de movimiento percepción"
   ]
  },
  {
   "cell_type": "code",
   "execution_count": null,
   "metadata": {},
   "outputs": [],
   "source": [
    "# Dada la siguiente secuencia cual cress que sea la posición de robot?\n",
    "p = maxima_incertidumbre\n",
    "p = sensar(p, \"abierto\")\n",
    "p = mover(p, 1)\n",
    "p = sensar(p, \"abierto\")\n",
    "p = mover(p,1)\n",
    "p = sensar(p, \"abierto\")\n"
   ]
  },
  {
   "cell_type": "code",
   "execution_count": null,
   "metadata": {},
   "outputs": [],
   "source": [
    "# verifiquemos\n",
    "imprimirBelief(p)"
   ]
  },
  {
   "cell_type": "code",
   "execution_count": null,
   "metadata": {},
   "outputs": [],
   "source": []
  }
 ],
 "metadata": {
  "kernelspec": {
   "display_name": "Python 3",
   "language": "python",
   "name": "python3"
  },
  "language_info": {
   "codemirror_mode": {
    "name": "ipython",
    "version": 3
   },
   "file_extension": ".py",
   "mimetype": "text/x-python",
   "name": "python",
   "nbconvert_exporter": "python",
   "pygments_lexer": "ipython3",
   "version": "3.6.6"
  }
 },
 "nbformat": 4,
 "nbformat_minor": 2
}
